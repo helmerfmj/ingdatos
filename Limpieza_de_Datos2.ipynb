{
  "nbformat": 4,
  "nbformat_minor": 0,
  "metadata": {
    "colab": {
      "provenance": []
    },
    "kernelspec": {
      "name": "python3",
      "display_name": "Python 3"
    },
    "language_info": {
      "name": "python"
    }
  },
  "cells": [
    {
      "cell_type": "code",
      "execution_count": 1,
      "metadata": {
        "id": "jN2FpvyQsLGD"
      },
      "outputs": [],
      "source": [
        "import pandas as pd\n",
        "import numpy as np\n",
        "from sklearn.preprocessing import LabelEncoder, StandardScaler, MinMaxScaler"
      ]
    },
    {
      "cell_type": "code",
      "source": [
        "# -----------------------------\n",
        "# 1. CARGAR LOS DATOS DESDE CSV\n",
        "# -----------------------------\n",
        "# Definimos la ruta del archivo CSV que contiene nuestros datos\n",
        "csv_path = 'datos_ejemplo.csv'  # Esta variable almacena la ubicación del archivo para facilitar su modificación posterior\n",
        "# Leemos el archivo CSV y lo cargamos en un DataFrame de pandas, que es una estructura de datos tabular para manipulación eficiente\n",
        "df = pd.read_csv(csv_path)"
      ],
      "metadata": {
        "id": "P0CgjWvied6v"
      },
      "execution_count": 2,
      "outputs": []
    },
    {
      "cell_type": "code",
      "source": [
        "# Mostramos las primeras 5 filas del DataFrame para verificar que los datos se cargaron correctamente\n",
        "print(\"🔹 Datos Cargados desde CSV:\\n\", df.head())"
      ],
      "metadata": {
        "colab": {
          "base_uri": "https://localhost:8080/"
        },
        "id": "3PuJtTBKer99",
        "outputId": "ec273370-b934-46be-dfb1-8e08fc94000b"
      },
      "execution_count": 3,
      "outputs": [
        {
          "output_type": "stream",
          "name": "stdout",
          "text": [
            "🔹 Datos Cargados desde CSV:\n",
            "    ID  Nombre  Edad      Ciudad  Salario Genero\n",
            "0   1     Ana  23.0      La Paz   5000.0      F\n",
            "1   2    Luis   NaN  Cochabamba   5500.0      M\n",
            "2   3   Pedro  30.0  Santa Cruz      NaN      M\n",
            "3   4   Maria  28.0      Tarija   6000.0      F\n",
            "4   5  Carlos  35.0      Potosi   7000.0      M\n"
          ]
        }
      ]
    },
    {
      "cell_type": "code",
      "source": [
        "# -----------------------------\n",
        "# 2. LIMPIEZA DE DATOS FALTANTES\n",
        "# -----------------------------\n",
        "\n",
        "# Verificamos la cantidad de valores nulos en cada columna para identificar problemas de datos faltantes\n",
        "print(\"\\n🔹 Valores Nulos por Columna:\\n\", df.isnull().sum())"
      ],
      "metadata": {
        "colab": {
          "base_uri": "https://localhost:8080/"
        },
        "id": "q_6GYYaIe0qF",
        "outputId": "ba5c7df0-3abf-409e-95bc-94f1e7137ca6"
      },
      "execution_count": 4,
      "outputs": [
        {
          "output_type": "stream",
          "name": "stdout",
          "text": [
            "\n",
            "🔹 Valores Nulos por Columna:\n",
            " ID         0\n",
            "Nombre     1\n",
            "Edad       2\n",
            "Ciudad     1\n",
            "Salario    2\n",
            "Genero     1\n",
            "dtype: int64\n"
          ]
        }
      ]
    },
    {
      "cell_type": "code",
      "source": [
        "# Identificamos todas las columnas numéricas del DataFrame para tratarlas adecuadamente\n",
        "# select_dtypes filtra columnas por tipo de dato, y np.number selecciona tipos numéricos (int, float, etc.)\n",
        "numerical_cols = df.select_dtypes(include=[np.number]).columns.tolist()"
      ],
      "metadata": {
        "id": "1MWlAImufRJd"
      },
      "execution_count": 5,
      "outputs": []
    },
    {
      "cell_type": "code",
      "source": [
        "# Para cada columna numérica, reemplazamos los valores nulos con la media de esa columna\n",
        "# Esta es una estrategia común para mantener la distribución estadística central de los datos\n",
        "for col in numerical_cols:\n",
        "    df[col].fillna(df[col].mean(), inplace=True)  # inplace=True modifica el DataFrame original sin crear una copia"
      ],
      "metadata": {
        "colab": {
          "base_uri": "https://localhost:8080/"
        },
        "id": "e1B2mfH2ffu1",
        "outputId": "f590e941-aaff-4631-c050-c7e00b2dedc7"
      },
      "execution_count": 6,
      "outputs": [
        {
          "output_type": "stream",
          "name": "stderr",
          "text": [
            "<ipython-input-6-25dbc24f5638>:4: FutureWarning: A value is trying to be set on a copy of a DataFrame or Series through chained assignment using an inplace method.\n",
            "The behavior will change in pandas 3.0. This inplace method will never work because the intermediate object on which we are setting values always behaves as a copy.\n",
            "\n",
            "For example, when doing 'df[col].method(value, inplace=True)', try using 'df.method({col: value}, inplace=True)' or df[col] = df[col].method(value) instead, to perform the operation inplace on the original object.\n",
            "\n",
            "\n",
            "  df[col].fillna(df[col].mean(), inplace=True)  # inplace=True modifica el DataFrame original sin crear una copia\n"
          ]
        }
      ]
    },
    {
      "cell_type": "code",
      "source": [
        "# Identificamos todas las columnas categóricas (de tipo objeto/texto) para tratarlas adecuadamente\n",
        "categorical_cols = df.select_dtypes(include=['object']).columns.tolist()"
      ],
      "metadata": {
        "id": "3qxVgIOvf4E1"
      },
      "execution_count": 7,
      "outputs": []
    },
    {
      "cell_type": "code",
      "source": [
        "# Para cada columna categórica, reemplazamos los valores nulos con la moda (valor más frecuente)\n",
        "# Esta estrategia mantiene la distribución de categorías y usa el valor más probable\n",
        "for col in categorical_cols:\n",
        "    df[col].fillna(df[col].mode()[0], inplace=True)  # mode() devuelve una Serie, por lo que accedemos al primer valor con [0]"
      ],
      "metadata": {
        "colab": {
          "base_uri": "https://localhost:8080/"
        },
        "id": "2J6xLfNwf7w1",
        "outputId": "c3a86267-58df-4cf9-91bc-50c5dc090775"
      },
      "execution_count": 8,
      "outputs": [
        {
          "output_type": "stream",
          "name": "stderr",
          "text": [
            "<ipython-input-8-ab1297385f51>:4: FutureWarning: A value is trying to be set on a copy of a DataFrame or Series through chained assignment using an inplace method.\n",
            "The behavior will change in pandas 3.0. This inplace method will never work because the intermediate object on which we are setting values always behaves as a copy.\n",
            "\n",
            "For example, when doing 'df[col].method(value, inplace=True)', try using 'df.method({col: value}, inplace=True)' or df[col] = df[col].method(value) instead, to perform the operation inplace on the original object.\n",
            "\n",
            "\n",
            "  df[col].fillna(df[col].mode()[0], inplace=True)  # mode() devuelve una Serie, por lo que accedemos al primer valor con [0]\n"
          ]
        }
      ]
    },
    {
      "cell_type": "code",
      "source": [
        "# Mostramos las primeras filas después de limpiar los valores nulos para verificar los cambios\n",
        "print(\"\\n✅ Datos después de manejar valores nulos:\\n\", df.head())"
      ],
      "metadata": {
        "colab": {
          "base_uri": "https://localhost:8080/"
        },
        "id": "KoSnvmXkf-Vd",
        "outputId": "312755b3-f1f3-4590-9652-584a1dc5314c"
      },
      "execution_count": 9,
      "outputs": [
        {
          "output_type": "stream",
          "name": "stdout",
          "text": [
            "\n",
            "✅ Datos después de manejar valores nulos:\n",
            "    ID  Nombre  Edad      Ciudad  Salario Genero\n",
            "0   1     Ana  23.0      La Paz   5000.0      F\n",
            "1   2    Luis  30.0  Cochabamba   5500.0      M\n",
            "2   3   Pedro  30.0  Santa Cruz   6362.5      M\n",
            "3   4   Maria  28.0      Tarija   6000.0      F\n",
            "4   5  Carlos  35.0      Potosi   7000.0      M\n"
          ]
        }
      ]
    },
    {
      "cell_type": "code",
      "source": [
        "# -----------------------------\n",
        "# 3. CATEGORIZACIÓN DE VARIABLES\n",
        "# -----------------------------\n",
        "\n",
        "# Convertimos las variables categóricas a numéricas usando LabelEncoder\n",
        "# Esto es necesario porque muchos algoritmos de machine learning solo aceptan entradas numéricas\n",
        "le = LabelEncoder()  # Creamos una instancia del codificador de etiquetas"
      ],
      "metadata": {
        "id": "xOp5kbgfgBrW"
      },
      "execution_count": 10,
      "outputs": []
    },
    {
      "cell_type": "code",
      "source": [
        "for col in categorical_cols:\n",
        "    # Transformamos cada valor categórico a un número entero único\n",
        "    # Cada categoría única recibe un número entero (0, 1, 2, etc.)\n",
        "    df[col] = le.fit_transform(df[col])"
      ],
      "metadata": {
        "id": "7_6snlsZgEdV"
      },
      "execution_count": 11,
      "outputs": []
    },
    {
      "cell_type": "code",
      "source": [
        "# Mostramos el DataFrame después de la categorización para verificar la transformación\n",
        "print(\"\\n✅ Datos después de la categorización:\\n\", df.head())"
      ],
      "metadata": {
        "colab": {
          "base_uri": "https://localhost:8080/"
        },
        "id": "YNK-c0MPgLnl",
        "outputId": "19b5f882-e370-46de-dd20-a03365b98de5"
      },
      "execution_count": 12,
      "outputs": [
        {
          "output_type": "stream",
          "name": "stdout",
          "text": [
            "\n",
            "✅ Datos después de la categorización:\n",
            "    ID  Nombre  Edad  Ciudad  Salario  Genero\n",
            "0   1       0  23.0       1   5000.0       0\n",
            "1   2       5  30.0       0   5500.0       1\n",
            "2   3       7  30.0       4   6362.5       1\n",
            "3   4       6  28.0       6   6000.0       0\n",
            "4   5       2  35.0       3   7000.0       1\n"
          ]
        }
      ]
    },
    {
      "cell_type": "code",
      "source": [
        "# -----------------------------\n",
        "# 4. ESTANDARIZACIÓN Y ESCALAMIENTO\n",
        "# -----------------------------\n",
        "\n",
        "# --- 4.1 Estandarización (Z-Score Scaling) ---\n",
        "# La estandarización transforma los datos para que tengan media=0 y desviación estándar=1\n",
        "# Es útil para algoritmos sensibles a la escala de los datos como regresión o SVM\n",
        "scaler_standard = StandardScaler()  # Creamos una instancia del estandarizador\n",
        "df_standardized = df.copy()  # Creamos una copia del DataFrame para no alterar el original\n",
        "# Aplicamos la estandarización solo a las columnas numéricas\n",
        "df_standardized[numerical_cols] = scaler_standard.fit_transform(df_standardized[numerical_cols])"
      ],
      "metadata": {
        "id": "oaRc9eTDgTYE"
      },
      "execution_count": 13,
      "outputs": []
    },
    {
      "cell_type": "code",
      "source": [
        "# Mostramos los datos estandarizados para verificar la transformación\n",
        "print(\"\\n✅ Datos Estandarizados (Z-Score):\\n\", df_standardized.head())"
      ],
      "metadata": {
        "colab": {
          "base_uri": "https://localhost:8080/"
        },
        "id": "ge24XUYngU_G",
        "outputId": "a0f39db3-0822-4e6e-ef00-07416af8450e"
      },
      "execution_count": 14,
      "outputs": [
        {
          "output_type": "stream",
          "name": "stdout",
          "text": [
            "\n",
            "✅ Datos Estandarizados (Z-Score):\n",
            "          ID  Nombre      Edad  Ciudad   Salario  Genero\n",
            "0 -1.566699       0 -1.506160       1 -1.893320       0\n",
            "1 -1.218544       5  0.000000       0 -1.198524       1\n",
            "2 -0.870388       7  0.000000       4  0.000000       1\n",
            "3 -0.522233       6 -0.430331       6 -0.503727       0\n",
            "4 -0.174078       2  1.075829       3  0.885865       1\n"
          ]
        }
      ]
    },
    {
      "cell_type": "code",
      "source": [
        "# --- 4.2 Escalamiento (Min-Max Scaling) ---\n",
        "# El escalamiento Min-Max transforma los datos al rango [0,1]\n",
        "# Es útil para algoritmos que requieren entradas positivas o acotadas como redes neuronales\n",
        "scaler_minmax = MinMaxScaler()  # Creamos una instancia del escalador Min-Max\n",
        "df_minmax_scaled = df.copy()  # Creamos otra copia del DataFrame original\n",
        "# Aplicamos el escalamiento solo a las columnas numéricas\n",
        "df_minmax_scaled[numerical_cols] = scaler_minmax.fit_transform(df_minmax_scaled[numerical_cols])"
      ],
      "metadata": {
        "id": "p-Lba_VlgZ-m"
      },
      "execution_count": 15,
      "outputs": []
    },
    {
      "cell_type": "code",
      "source": [
        "# Mostramos los datos escalados para verificar la transformación\n",
        "print(\"\\n✅ Datos Escalados (Min-Max):\\n\", df_minmax_scaled.head())"
      ],
      "metadata": {
        "colab": {
          "base_uri": "https://localhost:8080/"
        },
        "id": "Ij0kEAwhgcft",
        "outputId": "549b76b9-cc74-465b-df20-0897cc3b1466"
      },
      "execution_count": 16,
      "outputs": [
        {
          "output_type": "stream",
          "name": "stdout",
          "text": [
            "\n",
            "✅ Datos Escalados (Min-Max):\n",
            "          ID  Nombre      Edad  Ciudad  Salario  Genero\n",
            "0  0.000000       0  0.000000       1    0.000       0\n",
            "1  0.111111       5  0.411765       0    0.200       1\n",
            "2  0.222222       7  0.411765       4    0.545       1\n",
            "3  0.333333       6  0.294118       6    0.400       0\n",
            "4  0.444444       2  0.705882       3    0.800       1\n"
          ]
        }
      ]
    },
    {
      "cell_type": "code",
      "source": [
        "# -----------------------------\n",
        "# 5. GUARDAR RESULTADOS\n",
        "# -----------------------------\n",
        "\n",
        "# Guardamos cada versión procesada de los datos en archivos CSV separados\n",
        "# Esto permite utilizar la versión más adecuada según el análisis posterior\n",
        "df.to_csv('datos_limpios.csv', index=False)  # Datos con valores nulos corregidos y variables categóricas codificadas\n",
        "df_standardized.to_csv('datos_estandarizados.csv', index=False)  # Datos con estandarización Z-Score\n",
        "df_minmax_scaled.to_csv('datos_escalados_minmax.csv', index=False)  # Datos con escalamiento Min-Max"
      ],
      "metadata": {
        "id": "6IrvF6r3gfX-"
      },
      "execution_count": 17,
      "outputs": []
    },
    {
      "cell_type": "code",
      "source": [
        "# Informamos al usuario sobre los archivos generados para facilitar su localización\n",
        "print(\"\\n✅ Archivos generados:\")\n",
        "print(\" - datos_limpios.csv\")\n",
        "print(\" - datos_estandarizados.csv\")\n",
        "print(\" - datos_escalados_minmax.csv\")"
      ],
      "metadata": {
        "colab": {
          "base_uri": "https://localhost:8080/"
        },
        "id": "VBZgS-YAgjI9",
        "outputId": "e659c410-3f80-4113-d632-4fa1cb805cf6"
      },
      "execution_count": 18,
      "outputs": [
        {
          "output_type": "stream",
          "name": "stdout",
          "text": [
            "\n",
            "✅ Archivos generados:\n",
            " - datos_limpios.csv\n",
            " - datos_estandarizados.csv\n",
            " - datos_escalados_minmax.csv\n"
          ]
        }
      ]
    }
  ]
}