{
  "nbformat": 4,
  "nbformat_minor": 0,
  "metadata": {
    "colab": {
      "provenance": []
    },
    "kernelspec": {
      "name": "python3",
      "display_name": "Python 3"
    },
    "language_info": {
      "name": "python"
    }
  },
  "cells": [
    {
      "cell_type": "code",
      "execution_count": 1,
      "metadata": {
        "id": "uCT17wpmqwTR"
      },
      "outputs": [],
      "source": [
        "# Importación de las bibliotecas necesarias para el procesamiento de datos\n",
        "import pandas as pd  # Pandas para manipulación y análisis de datos\n",
        "import numpy as np   # NumPy para cálculos numéricos avanzados"
      ]
    },
    {
      "cell_type": "code",
      "source": [
        "# Definición de la ruta al archivo CSV que contiene los datos a limpiar\n",
        "csv_path = 'datos_sucios.csv'\n",
        "\n",
        "# Carga del archivo CSV en un DataFrame de pandas para su manipulación\n",
        "# Esta es la primera operación de datos y nos permite trabajar con la información en memoria\n",
        "df = pd.read_csv(csv_path)\n",
        "\n",
        "# Visualización de las primeras filas del DataFrame para inspeccionar la estructura inicial de los datos\n",
        "# Esto nos permite verificar que los datos se cargaron correctamente y entender su formato\n",
        "print(\"🔹 Datos Cargados desde CSV:\\n\", df.head())"
      ],
      "metadata": {
        "colab": {
          "base_uri": "https://localhost:8080/"
        },
        "id": "0Lqhwpf6q4cc",
        "outputId": "ba50043b-5d3d-42c8-ec86-19c7686cb8b0"
      },
      "execution_count": 3,
      "outputs": [
        {
          "output_type": "stream",
          "name": "stdout",
          "text": [
            "🔹 Datos Cargados desde CSV:\n",
            "    ID Nombre  Edad      Ciudad        Salario\n",
            "0   1    Ana  23.0      La Paz           5000\n",
            "1   2   Luis  25.0  Cochabamba           5500\n",
            "2   3  Pedro   NaN  Santa Cruz           6000\n",
            "3   4  Maria  28.0      Tarija  No Disponible\n",
            "4   5    NaN  30.0      La Paz           6500\n"
          ]
        }
      ]
    },
    {
      "cell_type": "code",
      "source": [
        "# Verificación de valores nulos en cada columna para identificar campos con datos faltantes\n",
        "# Este análisis es crucial para determinar qué estrategias de limpieza aplicar\n",
        "print(\"\\n🔹 Valores Nulos por Columna:\\n\", df.isnull().sum())"
      ],
      "metadata": {
        "id": "lpo6Tka2rPOh",
        "outputId": "6e69ee40-e1b2-49ff-eb1e-f88da2538017",
        "colab": {
          "base_uri": "https://localhost:8080/"
        }
      },
      "execution_count": 4,
      "outputs": [
        {
          "output_type": "stream",
          "name": "stdout",
          "text": [
            "\n",
            "🔹 Valores Nulos por Columna:\n",
            " ID         0\n",
            "Nombre     1\n",
            "Edad       1\n",
            "Ciudad     1\n",
            "Salario    0\n",
            "dtype: int64\n"
          ]
        }
      ]
    },
    {
      "cell_type": "code",
      "source": [
        "# --- SECCIÓN 1: TRATAMIENTO DE VALORES NULOS ---\n",
        "\n",
        "# Reemplazamos los valores nulos en la columna 'Nombre' con el texto 'Desconocido'\n",
        "# Justificación: Para los nombres, usar un valor textual descriptivo es mejor que dejar el campo vacío\n",
        "df['Nombre'] = df['Nombre'].fillna('Desconocido')"
      ],
      "metadata": {
        "id": "HtdKNjZGl6ZH"
      },
      "execution_count": 5,
      "outputs": []
    },
    {
      "cell_type": "code",
      "source": [
        "# Reemplazamos los valores nulos en la columna 'Edad' con la media de las edades existentes\n",
        "# Justificación: La media es una medida estadística adecuada para valores numéricos como la edad\n",
        "df['Edad'] = df['Edad'].fillna(df['Edad'].mean())"
      ],
      "metadata": {
        "id": "Fbrql9H7mJH3"
      },
      "execution_count": 6,
      "outputs": []
    },
    {
      "cell_type": "code",
      "source": [
        "# Reemplazamos los valores nulos en la columna 'Ciudad' con el texto 'Sin Ciudad'\n",
        "# Justificación: Mantiene la integridad del conjunto de datos sin perder registros\n",
        "df['Ciudad'] = df['Ciudad'].fillna('Sin Ciudad')"
      ],
      "metadata": {
        "id": "zqOO7bZEmMQu"
      },
      "execution_count": 7,
      "outputs": []
    },
    {
      "cell_type": "code",
      "source": [
        "# --- SECCIÓN 2: ELIMINACIÓN DE DUPLICADOS ---\n",
        "\n",
        "# Eliminamos filas duplicadas para evitar redundancia en los datos\n",
        "# Justificación: Los duplicados pueden sesgar análisis estadísticos y ocupan espacio innecesario\n",
        "df = df.drop_duplicates()"
      ],
      "metadata": {
        "id": "XX3NkApXmPU1"
      },
      "execution_count": 8,
      "outputs": []
    },
    {
      "cell_type": "code",
      "source": [
        "# Mostramos la cantidad de filas después de eliminar duplicados para verificar el impacto\n",
        "print(\"\\n🔹 Duplicados eliminados. Total de filas:\", len(df))"
      ],
      "metadata": {
        "colab": {
          "base_uri": "https://localhost:8080/"
        },
        "id": "K9ZOSxf7mQ_9",
        "outputId": "d1609eef-cc88-48c6-82ea-e8d628d67923"
      },
      "execution_count": 9,
      "outputs": [
        {
          "output_type": "stream",
          "name": "stdout",
          "text": [
            "\n",
            "🔹 Duplicados eliminados. Total de filas: 10\n"
          ]
        }
      ]
    },
    {
      "cell_type": "code",
      "source": [
        "# --- SECCIÓN 3: CORRECCIÓN DE TIPOS DE DATOS ---\n",
        "\n",
        "# Convertimos la columna 'Salario' a tipo numérico utilizando coerción para manejar errores\n",
        "# La opción 'coerce' convierte valores no numéricos (como 'No Disponible') a NaN\n",
        "# Justificación: Asegura que podamos realizar operaciones matemáticas con la columna\n",
        "df['Salario'] = pd.to_numeric(df['Salario'], errors='coerce')"
      ],
      "metadata": {
        "id": "BuxOOYSpmTf1"
      },
      "execution_count": 10,
      "outputs": []
    },
    {
      "cell_type": "code",
      "source": [
        "# Rellenamos los valores NaN (generados en el paso anterior) con la mediana de los salarios\n",
        "# Justificación: La mediana es más robusta que la media ante valores extremos (outliers)\n",
        "df['Salario'] = df['Salario'].fillna(df['Salario'].median())"
      ],
      "metadata": {
        "id": "JrGPCxZOmVud"
      },
      "execution_count": 11,
      "outputs": []
    },
    {
      "cell_type": "code",
      "source": [
        "# --- SECCIÓN 4: CORRECCIÓN DE DATOS INCONSISTENTES ---\n",
        "\n",
        "# Estandarizamos los nombres aplicando el formato title() (primera letra en mayúscula)\n",
        "# Justificación: Mejora la consistencia y presentación de los datos de texto\n",
        "df['Nombre'] = df['Nombre'].str.title()"
      ],
      "metadata": {
        "id": "yDEEH_7CmYit"
      },
      "execution_count": 12,
      "outputs": []
    },
    {
      "cell_type": "code",
      "source": [
        "# --- SECCIÓN 5: TRATAMIENTO DE OUTLIERS ---\n",
        "\n",
        "# Filtramos el DataFrame para conservar solo las filas con edad mayor o igual a 0\n",
        "# Justificación: Las edades negativas son lógicamente imposibles y deben eliminarse\n",
        "df = df[df['Edad'] >= 0]"
      ],
      "metadata": {
        "id": "PV_rDMELmawe"
      },
      "execution_count": 13,
      "outputs": []
    },
    {
      "cell_type": "code",
      "source": [
        "# --- SECCIÓN 6: ESTANDARIZACIÓN Y NORMALIZACIÓN ---\n",
        "\n",
        "# Normalizamos la columna 'Salario' a un rango entre 0 y 1 usando min-max scaling\n",
        "# Justificación: Facilita la comparación de salarios y su uso en algoritmos de análisis\n",
        "df['Salario_Normalizado'] = (df['Salario'] - df['Salario'].min()) / (df['Salario'].max() - df['Salario'].min())"
      ],
      "metadata": {
        "id": "m9F08-ulmdkP"
      },
      "execution_count": 14,
      "outputs": []
    },
    {
      "cell_type": "code",
      "source": [
        "# --- SECCIÓN 7: RENOMBRAR COLUMNAS ---\n",
        "\n",
        "# Renombramos columnas para mejorar la claridad y consistencia en la nomenclatura\n",
        "# Justificación: Nombres más descriptivos facilitan la interpretación de los datos\n",
        "df = df.rename(columns={'Nombre': 'Nombre_Completo', 'Ciudad': 'Ciudad_Residencia'})"
      ],
      "metadata": {
        "id": "OXNmZSUEmgke"
      },
      "execution_count": 15,
      "outputs": []
    },
    {
      "cell_type": "code",
      "source": [
        "# --- SECCIÓN 8: FILTRAR DATOS IRRELEVANTES ---\n",
        "\n",
        "# Verificamos si existe la columna 'ID' y la eliminamos si está presente\n",
        "# Justificación: Si la columna ID no aporta valor analítico, es mejor eliminarla para simplificar el dataset\n",
        "if 'ID' in df.columns:\n",
        "    df = df.drop(columns=['ID'])"
      ],
      "metadata": {
        "id": "M932rU3emjBm"
      },
      "execution_count": 16,
      "outputs": []
    },
    {
      "cell_type": "code",
      "source": [
        "# --- SECCIÓN 9: RESULTADO FINAL ---\n",
        "\n",
        "# Mostramos el DataFrame limpio para verificar todos los cambios realizados\n",
        "print(\"\\n✅ DataFrame Limpio:\\n\", df)"
      ],
      "metadata": {
        "colab": {
          "base_uri": "https://localhost:8080/"
        },
        "id": "bMC6coocmmCO",
        "outputId": "f81af5de-70bd-444e-ae2c-3f36d768be25"
      },
      "execution_count": 17,
      "outputs": [
        {
          "output_type": "stream",
          "name": "stdout",
          "text": [
            "\n",
            "✅ DataFrame Limpio:\n",
            "   Nombre_Completo       Edad Ciudad_Residencia  Salario  Salario_Normalizado\n",
            "0             Ana  23.000000            La Paz   5000.0             0.000000\n",
            "1            Luis  25.000000        Cochabamba   5500.0             0.166667\n",
            "2           Pedro  23.888889        Santa Cruz   6000.0             0.333333\n",
            "3           Maria  28.000000            Tarija   6500.0             0.500000\n",
            "4     Desconocido  30.000000            La Paz   6500.0             0.500000\n",
            "5          Carlos  30.000000        Cochabamba   6500.0             0.500000\n",
            "6          Andres  21.000000        Santa Cruz   7000.0             0.666667\n",
            "7           Maria  28.000000        Sin Ciudad   7200.0             0.733333\n",
            "9          Andrés  35.000000            La Paz   8000.0             1.000000\n"
          ]
        }
      ]
    },
    {
      "cell_type": "code",
      "source": [
        "# --- SECCIÓN 10: GUARDAR RESULTADOS ---\n",
        "\n",
        "# Guardamos el DataFrame limpio en un nuevo archivo CSV sin incluir el índice\n",
        "# Justificación: Preservar los datos limpios para futuros análisis sin necesidad de repetir el proceso\n",
        "df.to_csv('datos_limpios.csv', index=False)\n",
        "\n",
        "# Confirmación al usuario de que el proceso se ha completado exitosamente\n",
        "print(\"\\n✅ Datos limpios guardados en 'datos_limpios.csv'\")"
      ],
      "metadata": {
        "colab": {
          "base_uri": "https://localhost:8080/"
        },
        "id": "E0ZTqETRmpVf",
        "outputId": "f1f988b7-d6ba-4d40-a057-63fd5f8dddb1"
      },
      "execution_count": 18,
      "outputs": [
        {
          "output_type": "stream",
          "name": "stdout",
          "text": [
            "\n",
            "✅ Datos limpios guardados en 'datos_limpios.csv'\n"
          ]
        }
      ]
    }
  ]
}