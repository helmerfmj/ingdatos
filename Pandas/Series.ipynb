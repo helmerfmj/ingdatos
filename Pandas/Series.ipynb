{
  "nbformat": 4,
  "nbformat_minor": 0,
  "metadata": {
    "colab": {
      "provenance": []
    },
    "kernelspec": {
      "name": "python3",
      "display_name": "Python 3"
    },
    "language_info": {
      "name": "python"
    }
  },
  "cells": [
    {
      "cell_type": "code",
      "execution_count": null,
      "metadata": {
        "id": "ysUa1Otxax4k"
      },
      "outputs": [],
      "source": [
        "import pandas as pd\n",
        "import numpy as np"
      ]
    },
    {
      "cell_type": "code",
      "source": [
        "# === EJEMPLO 1: CREACIÓN DE SERIES ===\n",
        "# Una Series es una estructura unidimensional similar a un array o lista\n",
        "# pero con índices personalizados\n",
        "\n",
        "# Crear una Series desde una lista\n",
        "numeros = pd.Series([1, 2, 3, 4, 5])\n",
        "print(\"Series básica:\")\n",
        "print(numeros)\n",
        "print(\"\\nTipo de datos:\", numeros.dtype)  # dtype muestra el tipo de datos"
      ],
      "metadata": {
        "colab": {
          "base_uri": "https://localhost:8080/"
        },
        "id": "0Wlh6fFea5-x",
        "outputId": "42c619a6-7ca1-43f6-d4a9-d7e776820f16"
      },
      "execution_count": null,
      "outputs": [
        {
          "output_type": "stream",
          "name": "stdout",
          "text": [
            "Series básica:\n",
            "0    1\n",
            "1    2\n",
            "2    3\n",
            "3    4\n",
            "4    5\n",
            "dtype: int64\n",
            "\n",
            "Tipo de datos: int64\n"
          ]
        }
      ]
    },
    {
      "cell_type": "code",
      "source": [
        "# Crear una Series con índices personalizados\n",
        "dias = pd.Series([25, 30, 15, 40],\n",
        "                 index=['Lunes', 'Martes', 'Miércoles', 'Jueves'])\n",
        "print(\"\\nSeries con índices personalizados:\")\n",
        "print(dias)"
      ],
      "metadata": {
        "colab": {
          "base_uri": "https://localhost:8080/"
        },
        "id": "PsGwbNQ5a7Kh",
        "outputId": "6d653114-8875-4244-ba3d-c07e176044f5"
      },
      "execution_count": null,
      "outputs": [
        {
          "output_type": "stream",
          "name": "stdout",
          "text": [
            "\n",
            "Series con índices personalizados:\n",
            "Lunes        25\n",
            "Martes       30\n",
            "Miércoles    15\n",
            "Jueves       40\n",
            "dtype: int64\n"
          ]
        }
      ]
    },
    {
      "cell_type": "code",
      "source": [
        "# === EJEMPLO 2: OPERACIONES CON SERIES ===\n",
        "# Las Series permiten operaciones matemáticas directas\n",
        "print(\"\\nMultiplicar todos los valores por 2:\")\n",
        "print(dias * 2)"
      ],
      "metadata": {
        "colab": {
          "base_uri": "https://localhost:8080/"
        },
        "id": "tOSX6ynVbDO6",
        "outputId": "c444a34b-80c9-4963-862b-58096f85b248"
      },
      "execution_count": null,
      "outputs": [
        {
          "output_type": "stream",
          "name": "stdout",
          "text": [
            "\n",
            "Multiplicar todos los valores por 2:\n",
            "Lunes        50\n",
            "Martes       60\n",
            "Miércoles    30\n",
            "Jueves       80\n",
            "dtype: int64\n"
          ]
        }
      ]
    },
    {
      "cell_type": "code",
      "source": [
        "# Acceder a valores individuales\n",
        "print(\"\\nValor del Lunes:\", dias['Lunes'])"
      ],
      "metadata": {
        "colab": {
          "base_uri": "https://localhost:8080/"
        },
        "id": "YfejrFQ_bEl5",
        "outputId": "8ad8e2f2-01d6-4936-9995-4367e6749944"
      },
      "execution_count": null,
      "outputs": [
        {
          "output_type": "stream",
          "name": "stdout",
          "text": [
            "\n",
            "Valor del Lunes: 25\n"
          ]
        }
      ]
    },
    {
      "cell_type": "code",
      "source": [
        "# Filtrar valores\n",
        "print(\"\\nDías con más de 25 unidades:\")\n",
        "print(dias[dias > 25])"
      ],
      "metadata": {
        "colab": {
          "base_uri": "https://localhost:8080/"
        },
        "id": "iQQ9V_KpbI6d",
        "outputId": "22005a13-5689-43b2-f391-fb17d67d09ea"
      },
      "execution_count": null,
      "outputs": [
        {
          "output_type": "stream",
          "name": "stdout",
          "text": [
            "\n",
            "Días con más de 25 unidades:\n",
            "Martes    30\n",
            "Jueves    40\n",
            "dtype: int64\n"
          ]
        }
      ]
    },
    {
      "cell_type": "code",
      "source": [
        "# === EJEMPLO 3: SERIES CON DIFERENTES TIPOS DE DATOS ===\n",
        "# Las Series pueden contener diferentes tipos de datos\n",
        "mixta = pd.Series(['Python', 42, 3.14, True],\n",
        "                  index=['lenguaje', 'número', 'pi', 'booleano'])"
      ],
      "metadata": {
        "id": "kNsEUufFbMxY"
      },
      "execution_count": null,
      "outputs": []
    },
    {
      "cell_type": "code",
      "source": [
        "print(\"\\nSeries con diferentes tipos de datos:\")\n",
        "print(mixta)"
      ],
      "metadata": {
        "colab": {
          "base_uri": "https://localhost:8080/"
        },
        "id": "6PB1WoEWbTC_",
        "outputId": "c143ff26-8e2c-4dfb-9c1d-4b36ae4e33e6"
      },
      "execution_count": null,
      "outputs": [
        {
          "output_type": "stream",
          "name": "stdout",
          "text": [
            "\n",
            "Series con diferentes tipos de datos:\n",
            "lenguaje    Python\n",
            "número          42\n",
            "pi            3.14\n",
            "booleano      True\n",
            "dtype: object\n"
          ]
        }
      ]
    },
    {
      "cell_type": "code",
      "source": [
        "print(\"\\nTipos de datos de cada elemento:\")\n",
        "print(mixta.dtypes)"
      ],
      "metadata": {
        "colab": {
          "base_uri": "https://localhost:8080/"
        },
        "id": "6qYP9VnObU-q",
        "outputId": "3683029b-0c1c-4c2f-8b2e-363276dce770"
      },
      "execution_count": null,
      "outputs": [
        {
          "output_type": "stream",
          "name": "stdout",
          "text": [
            "\n",
            "Tipos de datos de cada elemento:\n",
            "object\n"
          ]
        }
      ]
    }
  ]
}