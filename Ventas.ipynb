{
  "nbformat": 4,
  "nbformat_minor": 0,
  "metadata": {
    "colab": {
      "provenance": []
    },
    "kernelspec": {
      "name": "python3",
      "display_name": "Python 3"
    },
    "language_info": {
      "name": "python"
    }
  },
  "cells": [
    {
      "cell_type": "code",
      "execution_count": null,
      "metadata": {
        "id": "KPeQH84nd7Cy"
      },
      "outputs": [],
      "source": [
        "import pandas as pd\n",
        "import numpy as np"
      ]
    },
    {
      "cell_type": "code",
      "source": [
        "data = {\n",
        "    'Fecha': ['2024-01-10', '2024-02-15', '2024-01-25', '2024-03-05', '2024-02-28'],\n",
        "    'Producto': ['Laptop', 'Celular', 'Tablet', 'Laptop', 'Celular'],\n",
        "    'Cantidad': [2, 5, 3, 1, 4],\n",
        "    'Precio': [1000, 500, 300, 1000, 500]\n",
        "}"
      ],
      "metadata": {
        "id": "sQDQsdY8fPYS"
      },
      "execution_count": null,
      "outputs": []
    },
    {
      "cell_type": "code",
      "source": [
        "df = pd.DataFrame(data)"
      ],
      "metadata": {
        "id": "vqDJwzfPfUej"
      },
      "execution_count": null,
      "outputs": []
    },
    {
      "cell_type": "code",
      "source": [
        "# Convertir la columna 'Fecha' a tipo datetime\n",
        "df['Fecha'] = pd.to_datetime(df['Fecha'])"
      ],
      "metadata": {
        "id": "ZUT6R8bkfdjZ"
      },
      "execution_count": null,
      "outputs": []
    },
    {
      "cell_type": "code",
      "source": [
        "# 2. Calcular el total de ventas por producto\n",
        "df['Total'] = df['Cantidad'] * df['Precio']\n",
        "ventas_por_producto = df.groupby('Producto')['Total'].sum()\n",
        "print(\"\\nVentas totales por producto:\\n\", ventas_por_producto)"
      ],
      "metadata": {
        "colab": {
          "base_uri": "https://localhost:8080/"
        },
        "id": "SE1-H21Yfh7o",
        "outputId": "5683e425-454f-425b-a563-325a205d381b"
      },
      "execution_count": null,
      "outputs": [
        {
          "output_type": "stream",
          "name": "stdout",
          "text": [
            "\n",
            "Ventas totales por producto:\n",
            " Producto\n",
            "Celular    4500\n",
            "Laptop     3000\n",
            "Tablet      900\n",
            "Name: Total, dtype: int64\n"
          ]
        }
      ]
    },
    {
      "cell_type": "code",
      "source": [
        "# 3. Obtener el mes con más ingresos\n",
        "df['Mes'] = df['Fecha'].dt.month  # Extraemos el mes\n",
        "ventas_por_mes = df.groupby('Mes')['Total'].sum()\n",
        "mes_max_ventas = ventas_por_mes.idxmax()  # Mes con mayor ventas\n",
        "print(\"\\nMes con más ingresos:\", mes_max_ventas)"
      ],
      "metadata": {
        "colab": {
          "base_uri": "https://localhost:8080/"
        },
        "id": "pt9mGsR-fmKo",
        "outputId": "4c441d3b-5954-40f3-d01f-20bbcbd46585"
      },
      "execution_count": null,
      "outputs": [
        {
          "output_type": "stream",
          "name": "stdout",
          "text": [
            "\n",
            "Mes con más ingresos: 2\n"
          ]
        }
      ]
    }
  ]
}