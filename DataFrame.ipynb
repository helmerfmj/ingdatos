{
  "nbformat": 4,
  "nbformat_minor": 0,
  "metadata": {
    "colab": {
      "provenance": []
    },
    "kernelspec": {
      "name": "python3",
      "display_name": "Python 3"
    },
    "language_info": {
      "name": "python"
    }
  },
  "cells": [
    {
      "cell_type": "code",
      "execution_count": null,
      "metadata": {
        "id": "k9QUxRj3WUzp"
      },
      "outputs": [],
      "source": [
        "import pandas as pd  # Importamos la librería pandas"
      ]
    },
    {
      "cell_type": "code",
      "source": [
        "# 1. Crear un DataFrame desde un diccionario\n",
        "data = {\n",
        "    'Nombre': ['Ana', 'Juan', 'Luis', 'María'],\n",
        "    'Edad': [23, 30, 25, 27],\n",
        "    'Ciudad': ['La Paz', 'Cochabamba', 'Santa Cruz', 'Tarija']\n",
        "}"
      ],
      "metadata": {
        "id": "XP_4s3HmXGax"
      },
      "execution_count": null,
      "outputs": []
    },
    {
      "cell_type": "code",
      "source": [
        "df = pd.DataFrame(data)  # Convertimos el diccionario en un DataFrame\n",
        "print(\"1. DataFrame creado desde un diccionario:\\n\", df)"
      ],
      "metadata": {
        "colab": {
          "base_uri": "https://localhost:8080/"
        },
        "id": "i00Yr6d4XKCX",
        "outputId": "2c5caa46-54b6-408d-e5b7-3a3f41a8a5eb"
      },
      "execution_count": null,
      "outputs": [
        {
          "output_type": "stream",
          "name": "stdout",
          "text": [
            "1. DataFrame creado desde un diccionario:\n",
            "   Nombre  Edad      Ciudad\n",
            "0    Ana    23      La Paz\n",
            "1   Juan    30  Cochabamba\n",
            "2   Luis    25  Santa Cruz\n",
            "3  María    27      Tarija\n"
          ]
        }
      ]
    },
    {
      "cell_type": "code",
      "source": [
        "# 2. Seleccionar una columna del DataFrame\n",
        "edades = df['Edad']  # Extraemos solo la columna \"Edad\"\n",
        "print(\"\\n2. Columna 'Edad':\\n\", edades)"
      ],
      "metadata": {
        "colab": {
          "base_uri": "https://localhost:8080/"
        },
        "id": "ZUTmlsxmXLRF",
        "outputId": "00b7297e-5348-4365-8361-725eb558795a"
      },
      "execution_count": null,
      "outputs": [
        {
          "output_type": "stream",
          "name": "stdout",
          "text": [
            "\n",
            "2. Columna 'Edad':\n",
            " 0    23\n",
            "1    30\n",
            "2    25\n",
            "3    27\n",
            "Name: Edad, dtype: int64\n"
          ]
        }
      ]
    },
    {
      "cell_type": "code",
      "source": [
        "# 3. Filtrar filas donde la edad sea mayor a 25\n",
        "df_filtrado = df[df['Edad'] > 25]\n",
        "print(\"\\n3. Filtrar filas con edad mayor a 25:\\n\", df_filtrado)"
      ],
      "metadata": {
        "colab": {
          "base_uri": "https://localhost:8080/"
        },
        "id": "RanwWO5PXVW5",
        "outputId": "2bc824ad-10b6-41da-9029-4d1402686e2d"
      },
      "execution_count": null,
      "outputs": [
        {
          "output_type": "stream",
          "name": "stdout",
          "text": [
            "\n",
            "3. Filtrar filas con edad mayor a 25:\n",
            "   Nombre  Edad      Ciudad\n",
            "1   Juan    30  Cochabamba\n",
            "3  María    27      Tarija\n"
          ]
        }
      ]
    },
    {
      "cell_type": "code",
      "source": [
        "# 4. Agregar una nueva columna\n",
        "df['Altura'] = [1.65, 1.78, 1.72, 1.60]  # Agregamos una nueva columna de altura\n",
        "print(\"\\n4. DataFrame con nueva columna 'Altura':\\n\", df)"
      ],
      "metadata": {
        "colab": {
          "base_uri": "https://localhost:8080/"
        },
        "id": "5nASx3oVXaRT",
        "outputId": "790941c9-462c-46dc-c4a4-6dfac18342c0"
      },
      "execution_count": null,
      "outputs": [
        {
          "output_type": "stream",
          "name": "stdout",
          "text": [
            "\n",
            "4. DataFrame con nueva columna 'Altura':\n",
            "   Nombre  Edad      Ciudad  Altura\n",
            "0    Ana    23      La Paz    1.65\n",
            "1   Juan    30  Cochabamba    1.78\n",
            "2   Luis    25  Santa Cruz    1.72\n",
            "3  María    27      Tarija    1.60\n"
          ]
        }
      ]
    },
    {
      "cell_type": "code",
      "source": [
        "# 5. Calcular estadísticas básicas\n",
        "estadisticas = df.describe()  # Obtiene estadísticas como media, min, max, etc.\n",
        "print(\"\\n5. Estadísticas del DataFrame:\\n\", estadisticas)"
      ],
      "metadata": {
        "colab": {
          "base_uri": "https://localhost:8080/"
        },
        "id": "6-KSwBs2XeHl",
        "outputId": "af896f0b-be4a-4234-c0db-65d492aab2ee"
      },
      "execution_count": null,
      "outputs": [
        {
          "output_type": "stream",
          "name": "stdout",
          "text": [
            "\n",
            "5. Estadísticas del DataFrame:\n",
            "             Edad    Altura\n",
            "count   4.000000  4.000000\n",
            "mean   26.250000  1.687500\n",
            "std     2.986079  0.078899\n",
            "min    23.000000  1.600000\n",
            "25%    24.500000  1.637500\n",
            "50%    26.000000  1.685000\n",
            "75%    27.750000  1.735000\n",
            "max    30.000000  1.780000\n"
          ]
        }
      ]
    }
  ]
}